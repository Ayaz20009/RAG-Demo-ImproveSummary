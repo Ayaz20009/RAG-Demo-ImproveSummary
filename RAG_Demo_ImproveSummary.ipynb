{
 "cells": [
  {
   "cell_type": "markdown",
   "id": "b6c3bdf5",
   "metadata": {
    "slideshow": {
     "slide_type": "slide"
    }
   },
   "source": [
    "# Retrieval Augmented Generation\n",
    "### Using MongoDB Atlas and OpenAI"
   ]
  },
  {
   "cell_type": "code",
   "execution_count": null,
   "id": "88ce891f",
   "metadata": {
    "slideshow": {
     "slide_type": "fragment"
    }
   },
   "outputs": [],
   "source": [
    "from IPython.display import IFrame\n",
    "\n",
    "PDF_URI = 'https://storage.googleapis.com/indeed_demo/resume.pdf'\n",
    "IFrame(PDF_URI, width=1280, height=1000)"
   ]
  },
  {
   "cell_type": "markdown",
   "id": "4c5896e2",
   "metadata": {},
   "source": [
    "## Extract only Summary"
   ]
  },
  {
   "cell_type": "code",
   "execution_count": null,
   "id": "4616115e",
   "metadata": {},
   "outputs": [],
   "source": [
    "import fitz  # PyMuPDF\n",
    "import requests\n",
    "from io import BytesIO\n",
    "\n",
    "# Define the URL of the PDF file\n",
    "url = \"https://storage.googleapis.com/indeed_demo/resume.pdf\"\n",
    "\n",
    "# Fetch the PDF file from the URL\n",
    "response = requests.get(url)\n",
    "pdf_content = BytesIO(response.content)\n",
    "\n",
    "# Open the PDF file\n",
    "pdf_document = fitz.open(stream=pdf_content, filetype=\"pdf\")\n",
    "\n",
    "# Extract text from each page and store the whole resume in a variable\n",
    "resume_text = \"\"\n",
    "for page_num in range(len(pdf_document)):\n",
    "    page = pdf_document.load_page(page_num)\n",
    "    resume_text += page.get_text()\n",
    "\n",
    "# Find the Summary section\n",
    "start_keyword = \"Summary\"\n",
    "end_keywords = [\"Highlights\", \"Experience\", \"Education\", \"Skills\"]\n",
    "\n",
    "# Extract the summary paragraph\n",
    "start_index = resume_text.find(start_keyword)\n",
    "if start_index != -1:\n",
    "    end_index = min([resume_text.find(kw, start_index) for kw in end_keywords if resume_text.find(kw, start_index) != -1], default=len(resume_text))\n",
    "    summary_text = resume_text[start_index + len(start_keyword):end_index].strip()\n",
    "else:\n",
    "    summary_text = \"No summary found.\"\n",
    "    \n",
    "\n",
    "print(summary_text)\n",
    "\n"
   ]
  },
  {
   "cell_type": "markdown",
   "id": "54694b1c",
   "metadata": {},
   "source": [
    "## Connect to MongoDB"
   ]
  },
  {
   "cell_type": "code",
   "execution_count": null,
   "id": "b624eb02",
   "metadata": {},
   "outputs": [],
   "source": [
    "from pymongo import MongoClient\n",
    "import os\n",
    "\n",
    "mongo_db_name = 'careerServices'\n",
    "mongo_coll_name = 'resumes'\n",
    "\n",
    "mongo_client = MongoClient(\"<MONGODB_CLUSTER_LINK>\")\n",
    "mongo_coll = mongo_client[mongo_db_name][mongo_coll_name]\n",
    "mongo_db_and_coll_path = '{}.{}'.format(mongo_db_name, mongo_coll_name)\n",
    "\n",
    "doc_count = mongo_coll.count_documents({})\n",
    "'{} document count is {:,}'.format(mongo_db_and_coll_path, doc_count)"
   ]
  },
  {
   "cell_type": "markdown",
   "id": "9249e0ce",
   "metadata": {},
   "source": [
    "## Covert the summary to vectors"
   ]
  },
  {
   "cell_type": "code",
   "execution_count": null,
   "id": "752bb5af",
   "metadata": {
    "collapsed": true
   },
   "outputs": [],
   "source": [
    "import openai\n",
    "openai.api_key = \"<OPENAI_API>\"\n",
    "# Send the summary text to the OpenAI embedding model\n",
    "response = openai.Embedding.create(\n",
    "    input=summary_text,\n",
    "    model=\"text-embedding-ada-002\"\n",
    ")\n",
    "\n",
    "# Extract the embedding vectors\n",
    "embedding_vectors = response['data'][0]['embedding']\n",
    "\n",
    "# Print the embedding vectors\n",
    "print(embedding_vectors)"
   ]
  },
  {
   "cell_type": "markdown",
   "id": "068b1ed6",
   "metadata": {},
   "source": [
    "## Perform Vector Search"
   ]
  },
  {
   "cell_type": "code",
   "execution_count": null,
   "id": "aa22952c",
   "metadata": {
    "collapsed": true
   },
   "outputs": [],
   "source": [
    "pipeline = [\n",
    "  {\n",
    "    '$vectorSearch': {\n",
    "      'index': 'vector_index_2', \n",
    "      'path': 'summary_embedding', \n",
    "      'queryVector': embedding_vectors,\n",
    "      'numCandidates': 150, \n",
    "      'limit': 4\n",
    "    }\n",
    "  }, {\n",
    "    '$project': {\n",
    "      '_id': 0, \n",
    "      'summary_section': 1,\n",
    "    }\n",
    "  }\n",
    "]\n",
    "\n",
    "result = mongo_coll.aggregate(pipeline)\n",
    "\n",
    "# Initialize an empty array to store the summary sections\n",
    "summary_sections = []\n",
    "\n",
    "# Iterate through the cursor and collect the summary sections\n",
    "for document in result:\n",
    "    summary_sections.append(document['summary_section'])\n",
    "\n",
    "# Print the array of summary sections\n",
    "print(summary_sections)"
   ]
  },
  {
   "cell_type": "markdown",
   "id": "3548ef7c",
   "metadata": {},
   "source": [
    "## Send summaries to OpenAI"
   ]
  },
  {
   "cell_type": "code",
   "execution_count": null,
   "id": "e18f502b",
   "metadata": {
    "collapsed": true
   },
   "outputs": [],
   "source": [
    "# Create the prompt\n",
    "prompt = f\"Improve the following summary by taking influence from the provided summaries:\\n\\nSummary to Improve:\\n{summary_text}\\n\\nInfluence Summaries:\\n\"\n",
    "for idx, summary in enumerate(summary_sections, 1):\n",
    "    prompt += f\"\\nSummary {idx}:\\n{summary}\"\n",
    "\n",
    "# Create the completion request\n",
    "completion = openai.ChatCompletion.create(\n",
    "    model=\"gpt-4o\",\n",
    "    messages=[\n",
    "        {\"role\": \"system\", \"content\": \"You are a helpful assistant.\"},\n",
    "        {\"role\": \"user\", \"content\": prompt}\n",
    "    ]\n",
    ")\n",
    "\n",
    "# Extract the improved summary\n",
    "improved_summary = completion.choices[0].message['content'].strip()\n",
    "\n",
    "# Print the improved summary\n",
    "\n",
    "print(\"Original Summary:\\n\")\n",
    "print(summary_text)\n",
    "print(\"\\nImproved Summary:\\n\")\n",
    "print(improved_summary)\n",
    "\n"
   ]
  },
  {
   "cell_type": "code",
   "execution_count": null,
   "id": "c7e2ec94",
   "metadata": {},
   "outputs": [],
   "source": []
  }
 ],
 "metadata": {
  "kernelspec": {
   "display_name": "Python 3 (ipykernel)",
   "language": "python",
   "name": "python3"
  },
  "language_info": {
   "codemirror_mode": {
    "name": "ipython",
    "version": 3
   },
   "file_extension": ".py",
   "mimetype": "text/x-python",
   "name": "python",
   "nbconvert_exporter": "python",
   "pygments_lexer": "ipython3",
   "version": "3.9.13"
  }
 },
 "nbformat": 4,
 "nbformat_minor": 5
}
